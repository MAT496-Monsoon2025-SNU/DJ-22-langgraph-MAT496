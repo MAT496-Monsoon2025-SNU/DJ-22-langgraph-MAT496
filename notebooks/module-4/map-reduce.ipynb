{
 "cells": [
  {
   "cell_type": "code",
   "execution_count": 1,
   "id": "f24e95c8",
   "metadata": {},
   "outputs": [
    {
     "data": {
      "text/plain": [
       "True"
      ]
     },
     "execution_count": 1,
     "metadata": {},
     "output_type": "execute_result"
    }
   ],
   "source": [
    "from dotenv import load_dotenv\n",
    "load_dotenv(dotenv_path=\"../../.env\", override=True)"
   ]
  },
  {
   "cell_type": "code",
   "execution_count": 2,
   "id": "994cf903-1ed6-4ae2-b32a-7891a2808f81",
   "metadata": {},
   "outputs": [],
   "source": [
    "from langchain_openai import ChatOpenAI\n",
    "\n",
    "subjects_prompt = \"\"\"Generate a list of 3 sub-topics that are all related to this overall topic: {topic}.\"\"\"\n",
    "trivia_prompt = \"\"\"Tell an interesting fact about {subject}. Make it fun and engaging.\"\"\"\n",
    "best_trivia_prompt = \"\"\"Below are a bunch of interesting facts about {topic}. Select the one which is the most fun and engaging! Return the ID of the best one, starting 0 as the ID for the first fact. Facts: \\n\\n  {trivia}\"\"\"\n",
    "\n",
    "model = ChatOpenAI(model=\"gpt-4.1-mini\", temperature=0) "
   ]
  },
  {
   "cell_type": "code",
   "execution_count": 3,
   "id": "099218ca-ee78-4291-95a1-87ee61382e3b",
   "metadata": {},
   "outputs": [],
   "source": [
    "import operator\n",
    "from typing import Annotated\n",
    "from typing_extensions import TypedDict\n",
    "from pydantic import BaseModel\n",
    "\n",
    "class Subjects(BaseModel):\n",
    "    subjects: list[str]\n",
    "\n",
    "class BestTrivia(BaseModel):\n",
    "    id: int\n",
    "    \n",
    "class OverallState(TypedDict):\n",
    "    topic: str\n",
    "    subjects: list\n",
    "    trivia: Annotated[list, operator.add]\n",
    "    best_selected_trivia: str"
   ]
  },
  {
   "cell_type": "code",
   "execution_count": 4,
   "id": "45010efd-ad31-4daa-b77e-aaec79ef0309",
   "metadata": {},
   "outputs": [],
   "source": [
    "def generate_topics(state: OverallState):\n",
    "    prompt = subjects_prompt.format(topic=state[\"topic\"])\n",
    "    response = model.with_structured_output(Subjects).invoke(prompt)\n",
    "    \n",
    "    return {\"subjects\": response.subjects}"
   ]
  },
  {
   "cell_type": "code",
   "execution_count": 5,
   "id": "bc83e575-11f6-41a9-990a-adb571bcda06",
   "metadata": {},
   "outputs": [],
   "source": [
    "from langgraph.types import Send\n",
    "\n",
    "def continue_to_trivia(state: OverallState):\n",
    "    return [Send(\"generate_trivia\", {\"subject\": s}) for s in state[\"subjects\"]]"
   ]
  },
  {
   "cell_type": "code",
   "execution_count": 6,
   "id": "bcddc567-73d3-4fb3-bfc5-1bea538f2aab",
   "metadata": {},
   "outputs": [],
   "source": [
    "class TriviaState(TypedDict):\n",
    "    subject: str\n",
    "\n",
    "class Trivia(BaseModel):\n",
    "    trivia: str\n",
    "\n",
    "def generate_trivia(state: TriviaState):\n",
    "    prompt = trivia_prompt.format(subject=state[\"subject\"])\n",
    "    response = model.with_structured_output(Trivia).invoke(prompt)\n",
    "\n",
    "    return {\"trivia\": [response.trivia]}"
   ]
  },
  {
   "cell_type": "code",
   "execution_count": 7,
   "id": "8d672870-75e3-4307-bda0-c41a86cbbaff",
   "metadata": {},
   "outputs": [],
   "source": [
    "def best_trivia(state: OverallState):\n",
    "    trivia = \"\\n\\n\".join(state[\"trivia\"])\n",
    "    prompt = best_trivia_prompt.format(topic=state[\"topic\"], trivia=trivia)\n",
    "    response = model.with_structured_output(BestTrivia).invoke(prompt)\n",
    "\n",
    "    return {\"best_selected_trivia\": state[\"trivia\"][response.id]}"
   ]
  },
  {
   "cell_type": "code",
   "execution_count": 8,
   "id": "2ae6be4b-144e-483c-88ad-ce86d6477a0d",
   "metadata": {},
   "outputs": [
    {
     "data": {
      "image/png": "[encoded data removed]",
      "text/plain": [
       "<IPython.core.display.Image object>"
      ]
     },
     "execution_count": 8,
     "metadata": {},
     "output_type": "execute_result"
    }
   ],
   "source": [
    "from IPython.display import Image\n",
    "from langgraph.graph import END, StateGraph, START\n",
    "\n",
    "graph = StateGraph(OverallState)\n",
    "graph.add_node(\"generate_topics\", generate_topics)\n",
    "graph.add_node(\"generate_trivia\", generate_trivia)\n",
    "graph.add_node(\"best_trivia\", best_trivia)\n",
    "graph.add_edge(START, \"generate_topics\")\n",
    "graph.add_conditional_edges(\"generate_topics\", continue_to_trivia, [\"generate_trivia\"])\n",
    "graph.add_edge(\"generate_trivia\", \"best_trivia\")\n",
    "graph.add_edge(\"best_trivia\", END)\n",
    "\n",
    "app = graph.compile()\n",
    "Image(app.get_graph().draw_mermaid_png())"
   ]
  },
  {
   "cell_type": "code",
   "execution_count": 9,
   "id": "e21dc7c9-0add-4125-be76-af701adb874a",
   "metadata": {},
   "outputs": [
    {
     "name": "stdout",
     "output_type": "stream",
     "text": [
      "{'generate_topics': {'subjects': ['History of Vodka', 'Vodka Production Process', 'Popular Vodka Cocktails']}}\n",
      "{'generate_trivia': {'trivia': ['Did you know that vodka was once used as a form of currency in Russia? In the 18th century, Russian soldiers were sometimes paid with vodka rations instead of money, making it both a drink and a valuable commodity!']}}\n",
      "{'generate_trivia': {'trivia': [\"Did you know that vodka can be made from almost anything that ferments? While it's commonly made from grains or potatoes, some adventurous distillers have crafted vodka from things like grapes, milk, and even honey! This versatility makes vodka production a fascinating blend of science and creativity.\"]}}\n",
      "{'generate_trivia': {'trivia': ['Did you know that the classic Vodka Martini, famously ordered \"shaken, not stirred\" by James Bond, actually became popular because vodka\\'s neutral flavor mixes so well with other ingredients, making it the perfect spy\\'s drink for a smooth yet powerful kick!']}}\n",
      "{'best_trivia': {'best_selected_trivia': 'Did you know that vodka was once used as a form of currency in Russia? In the 18th century, Russian soldiers were sometimes paid with vodka rations instead of money, making it both a drink and a valuable commodity!'}}\n"
     ]
    }
   ],
   "source": [
    "for s in app.stream({\"topic\": \"Vodka\"}):\n",
    "    print(s)"
   ]
  }
 ],
 "metadata": {
  "kernelspec": {
   "display_name": ".venv (3.13.5)",
   "language": "python",
   "name": "python3"
  },
  "language_info": {
   "codemirror_mode": {
    "name": "ipython",
    "version": 3
   },
   "file_extension": ".py",
   "mimetype": "text/x-python",
   "name": "python",
   "nbconvert_exporter": "python",
   "pygments_lexer": "ipython3",
   "version": "3.13.5"
  }
 },
 "nbformat": 4,
 "nbformat_minor": 5
}
