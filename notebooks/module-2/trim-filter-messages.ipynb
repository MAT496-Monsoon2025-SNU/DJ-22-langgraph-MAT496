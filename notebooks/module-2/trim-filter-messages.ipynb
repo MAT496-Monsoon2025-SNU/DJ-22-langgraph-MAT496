{
 "cells": [
  {
   "cell_type": "code",
   "execution_count": 2,
   "id": "d5197aba-5d46-421b-ae3b-4e3034edcfda",
   "metadata": {},
   "outputs": [
    {
     "data": {
      "text/plain": [
       "True"
      ]
     },
     "execution_count": 2,
     "metadata": {},
     "output_type": "execute_result"
    }
   ],
   "source": [
    "from dotenv import load_dotenv\n",
    "load_dotenv(dotenv_path=\"../../.env\", override=True)"
   ]
  },
  {
   "cell_type": "code",
   "execution_count": 3,
   "id": "cf11a463-e27a-4a05-b41d-64882e38edca",
   "metadata": {},
   "outputs": [
    {
     "name": "stdout",
     "output_type": "stream",
     "text": [
      "==================================\u001b[1m Ai Message \u001b[0m==================================\n",
      "Name: model\n",
      "\n",
      "So you said you were researching Panthera?\n",
      "================================\u001b[1m Human Message \u001b[0m=================================\n",
      "Name: Daksh\n",
      "\n",
      "Yes, I know about Tigers. But what others should I learn about?\n"
     ]
    }
   ],
   "source": [
    "from pprint import pprint\n",
    "from langchain_core.messages import AIMessage, HumanMessage\n",
    "\n",
    "messages = [AIMessage(f\"So you said you were researching Panthera?\", name=\"model\")]\n",
    "messages.append(HumanMessage(f\"Yes, I know about Tigers. But what others should I learn about?\", name=\"Daksh\"))\n",
    "\n",
    "for m in messages:\n",
    "    m.pretty_print()"
   ]
  },
  {
   "cell_type": "code",
   "execution_count": 4,
   "id": "4712e288-e622-48a2-ad3f-a52f65f3ab08",
   "metadata": {},
   "outputs": [
    {
     "data": {
      "text/plain": [
       "AIMessage(content='Great! Besides tigers, the Panthera genus includes several other fascinating big cats you might want to learn about:\\n\\n1. **Lion (Panthera leo):** Known as the \"king of the jungle,\" lions are social cats living in prides, mostly found in Africa and a small population in India.\\n\\n2. **Leopard (Panthera pardus):** Highly adaptable and widespread across Africa and parts of Asia, leopards are solitary and excellent climbers.\\n\\n3. **Jaguar (Panthera onca):** Native to the Americas, jaguars are powerful swimmers and have the strongest bite relative to body size among big cats.\\n\\n4. **Snow Leopard (Panthera uncia):** Found in the mountain ranges of Central and South Asia, snow leopards are elusive and well adapted to cold, rugged terrain.\\n\\nEach of these species has unique behaviors, habitats, and conservation statuses. Would you like information on a specific one?', additional_kwargs={'refusal': None}, response_metadata={'token_usage': {'completion_tokens': 195, 'prompt_tokens': 39, 'total_tokens': 234, 'completion_tokens_details': {'accepted_prediction_tokens': 0, 'audio_tokens': 0, 'reasoning_tokens': 0, 'rejected_prediction_tokens': 0}, 'prompt_tokens_details': {'audio_tokens': 0, 'cached_tokens': 0}}, 'model_name': 'gpt-4.1-mini-2025-04-14', 'system_fingerprint': 'fp_c064fdde7c', 'id': 'chatcmpl-CSVgvksQOl3vbpFwN4ZPIuHhZ7JXL', 'service_tier': 'default', 'finish_reason': 'stop', 'logprobs': None}, id='run--15f31c7d-a92a-4d95-9d6e-1a8ed5ac22f3-0', usage_metadata={'input_tokens': 39, 'output_tokens': 195, 'total_tokens': 234, 'input_token_details': {'audio': 0, 'cache_read': 0}, 'output_token_details': {'audio': 0, 'reasoning': 0}})"
      ]
     },
     "execution_count": 4,
     "metadata": {},
     "output_type": "execute_result"
    }
   ],
   "source": [
    "from langchain_openai import ChatOpenAI\n",
    "llm = ChatOpenAI(model=\"gpt-4.1-mini\")\n",
    "llm.invoke(messages)"
   ]
  },
  {
   "cell_type": "code",
   "execution_count": 5,
   "id": "bbd8c39c-633b-4176-9cc6-8318e42bb5dd",
   "metadata": {},
   "outputs": [
    {
     "data": {
      "image/png": "[encoded data removed]",
      "text/plain": [
       "<IPython.core.display.Image object>"
      ]
     },
     "metadata": {},
     "output_type": "display_data"
    }
   ],
   "source": [
    "from IPython.display import Image, display\n",
    "from langgraph.graph import MessagesState\n",
    "from langgraph.graph import StateGraph, START, END\n",
    "\n",
    "def chat_bot_node(state: MessagesState):\n",
    "    return {\"messages\": llm.invoke(state[\"messages\"])}\n",
    "\n",
    "builder = StateGraph(MessagesState)\n",
    "builder.add_node(\"chat_bot\", chat_bot_node)\n",
    "builder.add_edge(START, \"chat_bot\")\n",
    "builder.add_edge(\"chat_bot\", END)\n",
    "graph = builder.compile()\n",
    "\n",
    "display(Image(graph.get_graph().draw_mermaid_png()))"
   ]
  },
  {
   "cell_type": "code",
   "execution_count": 6,
   "id": "3a5a3e4a-ccfd-4d14-81f1-f0de6e11a1e4",
   "metadata": {},
   "outputs": [
    {
     "name": "stdout",
     "output_type": "stream",
     "text": [
      "==================================\u001b[1m Ai Message \u001b[0m==================================\n",
      "Name: model\n",
      "\n",
      "So you said you were researching Panthera?\n",
      "================================\u001b[1m Human Message \u001b[0m=================================\n",
      "Name: Daksh\n",
      "\n",
      "Yes, I know about Tigers. But what others should I learn about?\n",
      "==================================\u001b[1m Ai Message \u001b[0m==================================\n",
      "\n",
      "Great! Besides tigers, the genus *Panthera* includes several other magnificent big cats worth learning about:\n",
      "\n",
      "1. **Lion (*Panthera leo*)** – Known as the 'King of the Jungle,' lions are unique for their social behavior, living in prides.\n",
      "\n",
      "2. **Leopard (*Panthera pardus*)** – Highly adaptable and widespread, leopards are known for their spotted coats and climbing ability.\n",
      "\n",
      "3. **Jaguar (*Panthera onca*)** – Native to the Americas, jaguars have the most powerful bite among big cats and are excellent swimmers.\n",
      "\n",
      "4. **Snow Leopard (*Panthera uncia*)** – Found in the mountain ranges of Central and South Asia, snow leopards are elusive and well-adapted to cold climates.\n",
      "\n",
      "If you want, I can provide detailed information on any of these species!\n"
     ]
    }
   ],
   "source": [
    "output = graph.invoke({'messages': messages})\n",
    "for m in output['messages']:\n",
    "    m.pretty_print()"
   ]
  },
  {
   "cell_type": "code",
   "execution_count": 8,
   "id": "222c6bc5-bb0e-4a43-80f5-c8ec38d99f3a",
   "metadata": {},
   "outputs": [
    {
     "data": {
      "image/png": "[encoded data removed]",
      "text/plain": [
       "<IPython.core.display.Image object>"
      ]
     },
     "metadata": {},
     "output_type": "display_data"
    }
   ],
   "source": [
    "from langchain_core.messages import RemoveMessage\n",
    "\n",
    "def filter_messages(state: MessagesState):\n",
    "    delete_messages = [RemoveMessage(id=m.id) for m in state[\"messages\"][:-1]]\n",
    "    return {\"messages\": delete_messages}\n",
    "\n",
    "def chat_bot_node(state: MessagesState):    \n",
    "    return {\"messages\": [llm.invoke(state[\"messages\"])]}\n",
    "\n",
    "builder = StateGraph(MessagesState)\n",
    "builder.add_node(\"filter\", filter_messages)\n",
    "builder.add_node(\"chat_bot\", chat_bot_node)\n",
    "builder.add_edge(START, \"filter\")\n",
    "builder.add_edge(\"filter\", \"chat_bot\")\n",
    "builder.add_edge(\"chat_bot\", END)\n",
    "graph = builder.compile()\n",
    "\n",
    "display(Image(graph.get_graph().draw_mermaid_png()))"
   ]
  },
  {
   "cell_type": "code",
   "execution_count": 10,
   "id": "95a7c2cc-54ce-43e7-9a90-abf37827d709",
   "metadata": {},
   "outputs": [
    {
     "name": "stdout",
     "output_type": "stream",
     "text": [
      "================================\u001b[1m Human Message \u001b[0m=================================\n",
      "Name: Daksh\n",
      "\n",
      "Yes, I know about Tigers. But what others should I learn about?\n",
      "==================================\u001b[1m Ai Message \u001b[0m==================================\n",
      "\n",
      "That's great that you know about tigers! There are many fascinating animals and topics you can explore next. Here are some suggestions:\n",
      "\n",
      "1. **Other Big Cats**: Learn about lions, leopards, jaguars, and snow leopards. They share similarities with tigers but have unique traits and habitats.\n",
      "\n",
      "2. **Endangered Species**: Discover animals that are at risk of extinction, such as the Amur leopard, orangutans, or sea turtles, and learn about conservation efforts.\n",
      "\n",
      "3. **Marine Life**: Explore creatures of the oceans like dolphins, sharks, octopuses, and coral reefs.\n",
      "\n",
      "4. **Birds of Prey**: Study majestic birds like eagles, hawks, and owls.\n",
      "\n",
      "5. **Insects and Pollinators**: Understand the role of bees, butterflies, and other insects in ecosystems.\n",
      "\n",
      "6. **Ecosystems and Habitats**: Learn about different environments such as rainforests, savannas, deserts, and tundras, and the animals that live there.\n",
      "\n",
      "If you'd like, I can suggest resources or specific animals to start with!\n"
     ]
    }
   ],
   "source": [
    "messages = [AIMessage(\"Hi.\", name=\"model\", id=\"1\")]\n",
    "messages.append(HumanMessage(\"Hi.\", name=\"Daksh\", id=\"2\"))\n",
    "messages.append(AIMessage(\"So you said you were researching Panthera?\", name=\"model\", id=\"3\"))\n",
    "messages.append(HumanMessage(\"Yes, I know about Tigers. But what others should I learn about?\", name=\"Daksh\", id=\"4\"))\n",
    "\n",
    "output = graph.invoke({'messages': messages})\n",
    "for m in output['messages']:\n",
    "    m.pretty_print()"
   ]
  },
  {
   "cell_type": "code",
   "execution_count": 11,
   "id": "22d0b904-7cd6-486b-8948-105bee3d4683",
   "metadata": {},
   "outputs": [
    {
     "data": {
      "image/png": "[encoded data removed]",
      "text/plain": [
       "<IPython.core.display.Image object>"
      ]
     },
     "metadata": {},
     "output_type": "display_data"
    }
   ],
   "source": [
    "def chat_bot_node(state: MessagesState):\n",
    "    return {\"messages\": [llm.invoke(state[\"messages\"][-1:])]}\n",
    "\n",
    "builder = StateGraph(MessagesState)\n",
    "builder.add_node(\"chat_bot\", chat_bot_node)\n",
    "builder.add_edge(START, \"chat_bot\")\n",
    "builder.add_edge(\"chat_bot\", END)\n",
    "graph = builder.compile()\n",
    "\n",
    "display(Image(graph.get_graph().draw_mermaid_png()))"
   ]
  },
  {
   "cell_type": "code",
   "execution_count": 12,
   "id": "16956015-1dbe-4108-89b5-4209b68b51ca",
   "metadata": {},
   "outputs": [],
   "source": [
    "messages.append(output['messages'][-1])\n",
    "messages.append(HumanMessage(f\"Tell me more about Snow Leopards!\", name=\"Daksh\"))"
   ]
  },
  {
   "cell_type": "code",
   "execution_count": 13,
   "id": "85563415-c085-46a8-a4ac-155df798c54e",
   "metadata": {},
   "outputs": [
    {
     "name": "stdout",
     "output_type": "stream",
     "text": [
      "==================================\u001b[1m Ai Message \u001b[0m==================================\n",
      "Name: model\n",
      "\n",
      "Hi.\n",
      "================================\u001b[1m Human Message \u001b[0m=================================\n",
      "Name: Daksh\n",
      "\n",
      "Hi.\n",
      "==================================\u001b[1m Ai Message \u001b[0m==================================\n",
      "Name: model\n",
      "\n",
      "So you said you were researching Panthera?\n",
      "================================\u001b[1m Human Message \u001b[0m=================================\n",
      "Name: Daksh\n",
      "\n",
      "Yes, I know about Tigers. But what others should I learn about?\n",
      "==================================\u001b[1m Ai Message \u001b[0m==================================\n",
      "\n",
      "That's great that you know about tigers! There are many fascinating animals and topics you can explore next. Here are some suggestions:\n",
      "\n",
      "1. **Other Big Cats**: Learn about lions, leopards, jaguars, and snow leopards. They share similarities with tigers but have unique traits and habitats.\n",
      "\n",
      "2. **Endangered Species**: Discover animals that are at risk of extinction, such as the Amur leopard, orangutans, or sea turtles, and learn about conservation efforts.\n",
      "\n",
      "3. **Marine Life**: Explore creatures of the oceans like dolphins, sharks, octopuses, and coral reefs.\n",
      "\n",
      "4. **Birds of Prey**: Study majestic birds like eagles, hawks, and owls.\n",
      "\n",
      "5. **Insects and Pollinators**: Understand the role of bees, butterflies, and other insects in ecosystems.\n",
      "\n",
      "6. **Ecosystems and Habitats**: Learn about different environments such as rainforests, savannas, deserts, and tundras, and the animals that live there.\n",
      "\n",
      "If you'd like, I can suggest resources or specific animals to start with!\n",
      "================================\u001b[1m Human Message \u001b[0m=================================\n",
      "Name: Daksh\n",
      "\n",
      "Tell me more about Snow Leopards!\n"
     ]
    }
   ],
   "source": [
    "for m in messages:\n",
    "    m.pretty_print()"
   ]
  },
  {
   "cell_type": "code",
   "execution_count": 14,
   "id": "23349705-a059-47b5-9760-d8f64e687393",
   "metadata": {},
   "outputs": [
    {
     "name": "stdout",
     "output_type": "stream",
     "text": [
      "==================================\u001b[1m Ai Message \u001b[0m==================================\n",
      "Name: model\n",
      "\n",
      "Hi.\n",
      "================================\u001b[1m Human Message \u001b[0m=================================\n",
      "Name: Daksh\n",
      "\n",
      "Hi.\n",
      "==================================\u001b[1m Ai Message \u001b[0m==================================\n",
      "Name: model\n",
      "\n",
      "So you said you were researching Panthera?\n",
      "================================\u001b[1m Human Message \u001b[0m=================================\n",
      "Name: Daksh\n",
      "\n",
      "Yes, I know about Tigers. But what others should I learn about?\n",
      "==================================\u001b[1m Ai Message \u001b[0m==================================\n",
      "\n",
      "That's great that you know about tigers! There are many fascinating animals and topics you can explore next. Here are some suggestions:\n",
      "\n",
      "1. **Other Big Cats**: Learn about lions, leopards, jaguars, and snow leopards. They share similarities with tigers but have unique traits and habitats.\n",
      "\n",
      "2. **Endangered Species**: Discover animals that are at risk of extinction, such as the Amur leopard, orangutans, or sea turtles, and learn about conservation efforts.\n",
      "\n",
      "3. **Marine Life**: Explore creatures of the oceans like dolphins, sharks, octopuses, and coral reefs.\n",
      "\n",
      "4. **Birds of Prey**: Study majestic birds like eagles, hawks, and owls.\n",
      "\n",
      "5. **Insects and Pollinators**: Understand the role of bees, butterflies, and other insects in ecosystems.\n",
      "\n",
      "6. **Ecosystems and Habitats**: Learn about different environments such as rainforests, savannas, deserts, and tundras, and the animals that live there.\n",
      "\n",
      "If you'd like, I can suggest resources or specific animals to start with!\n",
      "================================\u001b[1m Human Message \u001b[0m=================================\n",
      "Name: Daksh\n",
      "\n",
      "Tell me more about Snow Leopards!\n",
      "==================================\u001b[1m Ai Message \u001b[0m==================================\n",
      "\n",
      "Sure, Daksh! Here’s some information about snow leopards:\n",
      "\n",
      "**Scientific Name:** *Panthera uncia*  \n",
      "**Habitat:** Snow leopards live in the mountain ranges of Central and South Asia, including the Himalayas, the Tibetan Plateau, and parts of Mongolia, Russia, and China. They are adapted to cold, rugged terrains at altitudes ranging typically from 3,000 to 5,500 meters (9,800 to 18,000 feet).  \n",
      "**Appearance:** Snow leopards have thick, smoky-gray fur with rosettes and spots that provide excellent camouflage in rocky and snowy environments. They have long, thick tails that help with balance and can wrap around their bodies for warmth.  \n",
      "**Size:** They are medium-sized big cats, typically weighing between 25 to 55 kilograms (55 to 121 pounds).  \n",
      "**Behavior:** Snow leopards are solitary and elusive creatures, mostly active at dawn and dusk (crepuscular). They are excellent climbers and can leap up to 6 times the length of their body, which helps them navigate steep terrain and hunt prey.  \n",
      "**Diet:** Their primary prey includes blue sheep (bharal), ibex, marmots, and other mountain animals.  \n",
      "**Conservation Status:** They are currently classified as Vulnerable by the IUCN due to threats like poaching, habitat loss, and retaliatory killings by herders. Conservation efforts are ongoing to protect their habitat and reduce human-wildlife conflicts.\n",
      "\n",
      "If you want to know more about their behavior, conservation efforts, or anything else, feel free to ask!\n"
     ]
    }
   ],
   "source": [
    "output = graph.invoke({'messages': messages})\n",
    "for m in output['messages']:\n",
    "    m.pretty_print()"
   ]
  },
  {
   "cell_type": "code",
   "execution_count": 15,
   "id": "2ff99b81-cf03-4cc2-b44f-44829a73e1fd",
   "metadata": {},
   "outputs": [
    {
     "data": {
      "image/png": "[encoded data removed]",
      "text/plain": [
       "<IPython.core.display.Image object>"
      ]
     },
     "metadata": {},
     "output_type": "display_data"
    }
   ],
   "source": [
    "from langchain_core.messages import trim_messages\n",
    "\n",
    "def chat_bot_node(state: MessagesState):\n",
    "    messages = trim_messages(\n",
    "            state[\"messages\"],\n",
    "            max_tokens=100,\n",
    "            strategy=\"last\",\n",
    "            token_counter=ChatOpenAI(model=\"gpt-4.1-mini\"),\n",
    "            allow_partial=False,\n",
    "        )\n",
    "    \n",
    "    return {\"messages\": [llm.invoke(messages)]}\n",
    "\n",
    "builder = StateGraph(MessagesState)\n",
    "builder.add_node(\"chat_bot\", chat_bot_node)\n",
    "builder.add_edge(START, \"chat_bot\")\n",
    "builder.add_edge(\"chat_bot\", END)\n",
    "graph = builder.compile()\n",
    "\n",
    "display(Image(graph.get_graph().draw_mermaid_png()))"
   ]
  },
  {
   "cell_type": "code",
   "execution_count": 16,
   "id": "24df63ac-da29-4874-b3df-7e390e97cc8a",
   "metadata": {},
   "outputs": [],
   "source": [
    "messages.append(output['messages'][-1])\n",
    "messages.append(HumanMessage(f\"Tell me where Jaguars live!\", name=\"Daksh\"))"
   ]
  },
  {
   "cell_type": "code",
   "execution_count": 17,
   "id": "6d9d8971-c75c-43ca-a209-eb1d07b2ead0",
   "metadata": {},
   "outputs": [
    {
     "data": {
      "text/plain": [
       "[HumanMessage(content='Tell me where Jaguars live!', additional_kwargs={}, response_metadata={}, name='Daksh')]"
      ]
     },
     "execution_count": 17,
     "metadata": {},
     "output_type": "execute_result"
    }
   ],
   "source": [
    "trim_messages(\n",
    "            messages,\n",
    "            max_tokens=100,\n",
    "            strategy=\"last\",\n",
    "            token_counter=ChatOpenAI(model=\"gpt-4.1-mini\"),\n",
    "            allow_partial=False\n",
    "        )"
   ]
  },
  {
   "cell_type": "code",
   "execution_count": 18,
   "id": "ed70a269-a869-4fa0-a1df-29736a432c51",
   "metadata": {},
   "outputs": [],
   "source": [
    "messages_out_trim = graph.invoke({'messages': messages})"
   ]
  }
 ],
 "metadata": {
  "kernelspec": {
   "display_name": ".venv (3.13.5)",
   "language": "python",
   "name": "python3"
  },
  "language_info": {
   "codemirror_mode": {
    "name": "ipython",
    "version": 3
   },
   "file_extension": ".py",
   "mimetype": "text/x-python",
   "name": "python",
   "nbconvert_exporter": "python",
   "pygments_lexer": "ipython3",
   "version": "3.13.5"
  }
 },
 "nbformat": 4,
 "nbformat_minor": 5
}
