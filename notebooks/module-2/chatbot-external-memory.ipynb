{
 "cells": [
  {
   "cell_type": "code",
   "execution_count": 1,
   "id": "2e10c4d4",
   "metadata": {},
   "outputs": [
    {
     "data": {
      "text/plain": [
       "True"
      ]
     },
     "execution_count": 1,
     "metadata": {},
     "output_type": "execute_result"
    }
   ],
   "source": [
    "from dotenv import load_dotenv\n",
    "load_dotenv(dotenv_path=\"../../.env\", override=True)"
   ]
  },
  {
   "cell_type": "code",
   "execution_count": 2,
   "id": "fae15402-17ae-4e89-8ecf-4c89e08b22fe",
   "metadata": {},
   "outputs": [],
   "source": [
    "import sqlite3\n",
    "conn = sqlite3.connect(\":memory:\", check_same_thread = False)"
   ]
  },
  {
   "cell_type": "code",
   "execution_count": 10,
   "id": "58339167-920c-4994-a0a7-0a9c5d4f7cf7",
   "metadata": {},
   "outputs": [],
   "source": [
    "#!mkdir -p state_db && [ ! -f state_db/example.db ] && wget -P state_db https://github.com/langchain-ai/langchain-academy/raw/main/module-2/state_db/example.db\n",
    "\n",
    "db_path = \"state_db/example.db\"\n",
    "conn = sqlite3.connect(db_path, check_same_thread=False)"
   ]
  },
  {
   "cell_type": "code",
   "execution_count": 11,
   "id": "3c7736b6-a750-48f8-a838-8e7616b12250",
   "metadata": {},
   "outputs": [],
   "source": [
    "from langgraph.checkpoint.sqlite import SqliteSaver\n",
    "memory = SqliteSaver(conn)"
   ]
  },
  {
   "cell_type": "code",
   "execution_count": 12,
   "id": "dc414e29-2078-41a0-887c-af1a6a3d72c0",
   "metadata": {},
   "outputs": [],
   "source": [
    "from langchain_openai import ChatOpenAI\n",
    "from langchain_core.messages import SystemMessage, HumanMessage, RemoveMessage\n",
    "from langgraph.graph import END\n",
    "from langgraph.graph import MessagesState\n",
    "\n",
    "model = ChatOpenAI(model=\"gpt-4.1-mini\",temperature=0)\n",
    "\n",
    "class State(MessagesState):\n",
    "    context: str\n",
    "\n",
    "def call_model(state: State):\n",
    "    context = state.get(\"context\", \"\")\n",
    "    if context:\n",
    "        system_message = f\"Context of the conversation had till now: {context}\"\n",
    "        messages = [SystemMessage(content=system_message)] + state[\"messages\"]\n",
    "    else:\n",
    "        messages = state[\"messages\"]\n",
    "    \n",
    "    response = model.invoke(messages)\n",
    "    return {\"messages\": response}\n",
    "\n",
    "def contexualize_conversation(state: State):\n",
    "    context = state.get(\"context\", \"\")\n",
    "    if context:\n",
    "        context_message = (\n",
    "            f\"This is context of the conversation to date: {context}\\n\\n\"\n",
    "            \"Extend the context by taking into account the new messages above: \"\n",
    "        )     \n",
    "    else:\n",
    "        context_message = \"Create context from the conversation above: \"\n",
    "\n",
    "    messages = state[\"messages\"] + [HumanMessage(content=context_message)]\n",
    "    response = model.invoke(messages)\n",
    "    delete_messages = [RemoveMessage(id=m.id) for m in state[\"messages\"][:-3]]\n",
    "    \n",
    "    return {\"context\": response.content, \"messages\": delete_messages}\n",
    "\n",
    "def should_continue(state: State):\n",
    "    \"\"\"Return the next node to execute.\"\"\"\n",
    "    \n",
    "    messages = state[\"messages\"]\n",
    "    if len(messages) > 6:\n",
    "        return \"contexualize_conversation\"\n",
    "\n",
    "    return END"
   ]
  },
  {
   "cell_type": "code",
   "execution_count": 13,
   "id": "e867fd95-91eb-4ce1-82fc-bb72d611a96d",
   "metadata": {},
   "outputs": [
    {
     "data": {
      "image/png": "[encoded data removed]",
      "text/plain": [
       "<IPython.core.display.Image object>"
      ]
     },
     "metadata": {},
     "output_type": "display_data"
    }
   ],
   "source": [
    "from IPython.display import Image, display\n",
    "from langgraph.graph import StateGraph, START\n",
    "\n",
    "workflow = StateGraph(State)\n",
    "workflow.add_node(\"conversation\", call_model)\n",
    "workflow.add_node(contexualize_conversation)\n",
    "\n",
    "workflow.add_edge(START, \"conversation\")\n",
    "workflow.add_conditional_edges(\"conversation\", should_continue)\n",
    "workflow.add_edge(\"contexualize_conversation\", END)\n",
    "\n",
    "graph = workflow.compile(checkpointer=memory)\n",
    "display(Image(graph.get_graph().draw_mermaid_png()))"
   ]
  },
  {
   "cell_type": "code",
   "execution_count": 15,
   "id": "0f4094a0-d240-4be8-903a-7d9f605bdc5c",
   "metadata": {},
   "outputs": [
    {
     "name": "stdout",
     "output_type": "stream",
     "text": [
      "==================================\u001b[1m Ai Message \u001b[0m==================================\n",
      "\n",
      "Hi Daksh! Nice to meet you again. How are you doing today? Would you like to chat more about FC Barcelona, the Cules, or anything else you're interested in?\n",
      "==================================\u001b[1m Ai Message \u001b[0m==================================\n",
      "\n",
      "Your name is Daksh. How can I assist you today, Daksh?\n",
      "==================================\u001b[1m Ai Message \u001b[0m==================================\n",
      "\n",
      "That's awesome, Daksh! The Cules are some of the most passionate and dedicated fans in football. Do you have a favorite FC Barcelona player or a memorable match you enjoyed?\n"
     ]
    }
   ],
   "source": [
    "config = {\"configurable\": {\"thread_id\": \"1\"}}\n",
    "\n",
    "input_message = HumanMessage(content=\"Hi! I'm Daksh\")\n",
    "output = graph.invoke({\"messages\": [input_message]}, config) \n",
    "\n",
    "for m in output['messages'][-1:]:\n",
    "    m.pretty_print()\n",
    "\n",
    "input_message = HumanMessage(content=\"what's my name?\")\n",
    "output = graph.invoke({\"messages\": [input_message]}, config) \n",
    "\n",
    "for m in output['messages'][-1:]:\n",
    "    m.pretty_print()\n",
    "\n",
    "input_message = HumanMessage(content=\"i like the Cules!\")\n",
    "output = graph.invoke({\"messages\": [input_message]}, config) \n",
    "\n",
    "for m in output['messages'][-1:]:\n",
    "    m.pretty_print()"
   ]
  },
  {
   "cell_type": "code",
   "execution_count": 16,
   "id": "d2ab158a-5a82-417a-8841-730a4cc18ea7",
   "metadata": {},
   "outputs": [
    {
     "data": {
      "text/plain": [
       "StateSnapshot(values={'messages': [AIMessage(content=\"Hi Daksh! Nice to meet you again. How are you doing today? Would you like to chat more about FC Barcelona, the Cules, or anything else you're interested in?\", additional_kwargs={'refusal': None}, response_metadata={'token_usage': {'completion_tokens': 37, 'prompt_tokens': 289, 'total_tokens': 326, 'completion_tokens_details': {'accepted_prediction_tokens': 0, 'audio_tokens': 0, 'reasoning_tokens': 0, 'rejected_prediction_tokens': 0}, 'prompt_tokens_details': {'audio_tokens': 0, 'cached_tokens': 0}}, 'model_name': 'gpt-4.1-mini-2025-04-14', 'system_fingerprint': 'fp_4c2851f862', 'id': 'chatcmpl-CTaErnHaKCnIELl3LsJmaymFTu4jh', 'service_tier': 'default', 'finish_reason': 'stop', 'logprobs': None}, id='run--a636d648-bb9f-4065-99e5-3b331db3fc99-0', usage_metadata={'input_tokens': 289, 'output_tokens': 37, 'total_tokens': 326, 'input_token_details': {'audio': 0, 'cache_read': 0}, 'output_token_details': {'audio': 0, 'reasoning': 0}}), HumanMessage(content=\"what's my name?\", additional_kwargs={}, response_metadata={}, id='47d89799-23cb-4e95-abb6-3283c2e8a6e3'), AIMessage(content='Your name is Daksh. How can I assist you today, Daksh?', additional_kwargs={'refusal': None}, response_metadata={'token_usage': {'completion_tokens': 16, 'prompt_tokens': 339, 'total_tokens': 355, 'completion_tokens_details': {'accepted_prediction_tokens': 0, 'audio_tokens': 0, 'reasoning_tokens': 0, 'rejected_prediction_tokens': 0}, 'prompt_tokens_details': {'audio_tokens': 0, 'cached_tokens': 0}}, 'model_name': 'gpt-4.1-mini-2025-04-14', 'system_fingerprint': 'fp_4c2851f862', 'id': 'chatcmpl-CTaEs9oqmTSTbB7iTOuTQiKNL3FH2', 'service_tier': 'default', 'finish_reason': 'stop', 'logprobs': None}, id='run--af9e199e-2398-4d02-a892-8015779dc1e2-0', usage_metadata={'input_tokens': 339, 'output_tokens': 16, 'total_tokens': 355, 'input_token_details': {'audio': 0, 'cache_read': 0}, 'output_token_details': {'audio': 0, 'reasoning': 0}}), HumanMessage(content='i like the Cules!', additional_kwargs={}, response_metadata={}, id='ce1fbcf4-93fb-4f47-950c-b7122118f130'), AIMessage(content=\"That's awesome, Daksh! The Cules are some of the most passionate and dedicated fans in football. Do you have a favorite FC Barcelona player or a memorable match you enjoyed?\", additional_kwargs={'refusal': None}, response_metadata={'token_usage': {'completion_tokens': 36, 'prompt_tokens': 312, 'total_tokens': 348, 'completion_tokens_details': {'accepted_prediction_tokens': 0, 'audio_tokens': 0, 'reasoning_tokens': 0, 'rejected_prediction_tokens': 0}, 'prompt_tokens_details': {'audio_tokens': 0, 'cached_tokens': 0}}, 'model_name': 'gpt-4.1-mini-2025-04-14', 'system_fingerprint': 'fp_4c2851f862', 'id': 'chatcmpl-CTaExyvqIzp4gJDWFw3wYXcomk1S7', 'service_tier': 'default', 'finish_reason': 'stop', 'logprobs': None}, id='run--4b089b6c-6829-4864-a322-7ee1be4604ed-0', usage_metadata={'input_tokens': 312, 'output_tokens': 36, 'total_tokens': 348, 'input_token_details': {'audio': 0, 'cache_read': 0}, 'output_token_details': {'audio': 0, 'reasoning': 0}})], 'context': 'Certainly! Here\\'s the updated and extended context incorporating the new messages from Daksh:\\n\\n---\\n\\n**Extended Context:**\\n\\nThe conversation began with Lance introducing himself and expressing his interest in the San Francisco 49ers football team. He confirmed his name and shared that he likes the 49ers, prompting a discussion about the team’s history, players, and other related topics. Later, another user named Daksh joined the conversation and introduced himself. Daksh confirmed his name when asked and shared that he likes the \"Cules,\" referring to the passionate fanbase of FC Barcelona. The conversation now includes interests in both American football (San Francisco 49ers) and European football (FC Barcelona).\\n\\nDaksh reiterated his name when prompted and engaged in friendly dialogue about his interests. The assistant has acknowledged Daksh’s preferences and is ready to assist with topics related to FC Barcelona, the Cules fanbase, or any other subjects Daksh wishes to explore.\\n\\n---\\n\\nIf you\\'d like, I can help you further develop this context or assist with any specific questions or topics related to these teams or fans!'}, next=(), config={'configurable': {'thread_id': '1', 'checkpoint_ns': '', 'checkpoint_id': '1f0af8a3-4e85-6d2a-8026-c4bd7263e8fc'}}, metadata={'source': 'loop', 'step': 38, 'parents': {}}, created_at='2025-10-22T21:00:57.647632+00:00', parent_config={'configurable': {'thread_id': '1', 'checkpoint_ns': '', 'checkpoint_id': '1f0af8a3-444d-6a08-8025-83a5a0d839c4'}}, tasks=(), interrupts=())"
      ]
     },
     "execution_count": 16,
     "metadata": {},
     "output_type": "execute_result"
    }
   ],
   "source": [
    "config = {\"configurable\": {\"thread_id\": \"1\"}}\n",
    "graph_state = graph.get_state(config)\n",
    "graph_state"
   ]
  },
  {
   "cell_type": "code",
   "execution_count": 17,
   "id": "b9a44dc5-be04-45fa-a6fc-27b0f8ee4678",
   "metadata": {},
   "outputs": [
    {
     "data": {
      "text/plain": [
       "StateSnapshot(values={'messages': [AIMessage(content=\"Hi Daksh! Nice to meet you again. How are you doing today? Would you like to chat more about FC Barcelona, the Cules, or anything else you're interested in?\", additional_kwargs={'refusal': None}, response_metadata={'token_usage': {'completion_tokens': 37, 'prompt_tokens': 289, 'total_tokens': 326, 'completion_tokens_details': {'accepted_prediction_tokens': 0, 'audio_tokens': 0, 'reasoning_tokens': 0, 'rejected_prediction_tokens': 0}, 'prompt_tokens_details': {'audio_tokens': 0, 'cached_tokens': 0}}, 'model_name': 'gpt-4.1-mini-2025-04-14', 'system_fingerprint': 'fp_4c2851f862', 'id': 'chatcmpl-CTaErnHaKCnIELl3LsJmaymFTu4jh', 'service_tier': 'default', 'finish_reason': 'stop', 'logprobs': None}, id='run--a636d648-bb9f-4065-99e5-3b331db3fc99-0', usage_metadata={'input_tokens': 289, 'output_tokens': 37, 'total_tokens': 326, 'input_token_details': {'audio': 0, 'cache_read': 0}, 'output_token_details': {'audio': 0, 'reasoning': 0}}), HumanMessage(content=\"what's my name?\", additional_kwargs={}, response_metadata={}, id='47d89799-23cb-4e95-abb6-3283c2e8a6e3'), AIMessage(content='Your name is Daksh. How can I assist you today, Daksh?', additional_kwargs={'refusal': None}, response_metadata={'token_usage': {'completion_tokens': 16, 'prompt_tokens': 339, 'total_tokens': 355, 'completion_tokens_details': {'accepted_prediction_tokens': 0, 'audio_tokens': 0, 'reasoning_tokens': 0, 'rejected_prediction_tokens': 0}, 'prompt_tokens_details': {'audio_tokens': 0, 'cached_tokens': 0}}, 'model_name': 'gpt-4.1-mini-2025-04-14', 'system_fingerprint': 'fp_4c2851f862', 'id': 'chatcmpl-CTaEs9oqmTSTbB7iTOuTQiKNL3FH2', 'service_tier': 'default', 'finish_reason': 'stop', 'logprobs': None}, id='run--af9e199e-2398-4d02-a892-8015779dc1e2-0', usage_metadata={'input_tokens': 339, 'output_tokens': 16, 'total_tokens': 355, 'input_token_details': {'audio': 0, 'cache_read': 0}, 'output_token_details': {'audio': 0, 'reasoning': 0}}), HumanMessage(content='i like the Cules!', additional_kwargs={}, response_metadata={}, id='ce1fbcf4-93fb-4f47-950c-b7122118f130'), AIMessage(content=\"That's awesome, Daksh! The Cules are some of the most passionate and dedicated fans in football. Do you have a favorite FC Barcelona player or a memorable match you enjoyed?\", additional_kwargs={'refusal': None}, response_metadata={'token_usage': {'completion_tokens': 36, 'prompt_tokens': 312, 'total_tokens': 348, 'completion_tokens_details': {'accepted_prediction_tokens': 0, 'audio_tokens': 0, 'reasoning_tokens': 0, 'rejected_prediction_tokens': 0}, 'prompt_tokens_details': {'audio_tokens': 0, 'cached_tokens': 0}}, 'model_name': 'gpt-4.1-mini-2025-04-14', 'system_fingerprint': 'fp_4c2851f862', 'id': 'chatcmpl-CTaExyvqIzp4gJDWFw3wYXcomk1S7', 'service_tier': 'default', 'finish_reason': 'stop', 'logprobs': None}, id='run--4b089b6c-6829-4864-a322-7ee1be4604ed-0', usage_metadata={'input_tokens': 312, 'output_tokens': 36, 'total_tokens': 348, 'input_token_details': {'audio': 0, 'cache_read': 0}, 'output_token_details': {'audio': 0, 'reasoning': 0}})], 'context': 'Certainly! Here\\'s the updated and extended context incorporating the new messages from Daksh:\\n\\n---\\n\\n**Extended Context:**\\n\\nThe conversation began with Lance introducing himself and expressing his interest in the San Francisco 49ers football team. He confirmed his name and shared that he likes the 49ers, prompting a discussion about the team’s history, players, and other related topics. Later, another user named Daksh joined the conversation and introduced himself. Daksh confirmed his name when asked and shared that he likes the \"Cules,\" referring to the passionate fanbase of FC Barcelona. The conversation now includes interests in both American football (San Francisco 49ers) and European football (FC Barcelona).\\n\\nDaksh reiterated his name when prompted and engaged in friendly dialogue about his interests. The assistant has acknowledged Daksh’s preferences and is ready to assist with topics related to FC Barcelona, the Cules fanbase, or any other subjects Daksh wishes to explore.\\n\\n---\\n\\nIf you\\'d like, I can help you further develop this context or assist with any specific questions or topics related to these teams or fans!'}, next=(), config={'configurable': {'thread_id': '1', 'checkpoint_ns': '', 'checkpoint_id': '1f0af8a3-4e85-6d2a-8026-c4bd7263e8fc'}}, metadata={'source': 'loop', 'step': 38, 'parents': {}}, created_at='2025-10-22T21:00:57.647632+00:00', parent_config={'configurable': {'thread_id': '1', 'checkpoint_ns': '', 'checkpoint_id': '1f0af8a3-444d-6a08-8025-83a5a0d839c4'}}, tasks=(), interrupts=())"
      ]
     },
     "execution_count": 17,
     "metadata": {},
     "output_type": "execute_result"
    }
   ],
   "source": [
    "config = {\"configurable\": {\"thread_id\": \"1\"}}\n",
    "graph_state = graph.get_state(config)\n",
    "graph_state"
   ]
  }
 ],
 "metadata": {
  "kernelspec": {
   "display_name": ".venv (3.13.5)",
   "language": "python",
   "name": "python3"
  },
  "language_info": {
   "codemirror_mode": {
    "name": "ipython",
    "version": 3
   },
   "file_extension": ".py",
   "mimetype": "text/x-python",
   "name": "python",
   "nbconvert_exporter": "python",
   "pygments_lexer": "ipython3",
   "version": "3.13.5"
  }
 },
 "nbformat": 4,
 "nbformat_minor": 5
}
